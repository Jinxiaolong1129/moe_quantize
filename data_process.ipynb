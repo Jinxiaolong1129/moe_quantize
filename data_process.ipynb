{
 "cells": [
  {
   "cell_type": "code",
   "execution_count": 4,
   "metadata": {},
   "outputs": [],
   "source": [
    "from IPython.core.interactiveshell import InteractiveShell\n",
    "InteractiveShell.ast_node_interactivity = \"all\""
   ]
  },
  {
   "cell_type": "code",
   "execution_count": 6,
   "metadata": {},
   "outputs": [
    {
     "name": "stdout",
     "output_type": "stream",
     "text": [
      "CSV file has been saved to autogptq_deepseek-ai/evaluation_results_full_corrected.csv\n"
     ]
    }
   ],
   "source": [
    "import os\n",
    "import json\n",
    "import pandas as pd\n",
    "\n",
    "dir_path = 'autogptq_deepseek-ai'  # Directory containing the files\n",
    "\n",
    "def extract_bits(filename):\n",
    "    \"\"\"Extract the bits part from the filename.\"\"\"\n",
    "    try:\n",
    "        return filename.split(\"_w_bit_\")[1].split(\"_pile\")[0]\n",
    "    except IndexError:\n",
    "        return None\n",
    "\n",
    "# Dictionary to hold all data, with bits as keys and metric dictionaries as values\n",
    "all_data = {}\n",
    "\n",
    "for filename in os.listdir(dir_path):\n",
    "    if filename.startswith(\"eval_result_deepseek-moe-16b-base-gptq_w_bit_\") and filename.endswith(\"_pile\"):\n",
    "        bits = extract_bits(filename)\n",
    "        if bits:  # Ensure bits part was successfully extracted\n",
    "            file_path = os.path.join(dir_path, filename)\n",
    "            try:\n",
    "                with open(file_path, 'r') as file:\n",
    "                    content = json.load(file)\n",
    "                    all_data[bits] = content\n",
    "            except json.JSONDecodeError:\n",
    "                # If JSON is invalid, skip this file\n",
    "                continue\n",
    "\n",
    "# Convert the collected data into a DataFrame\n",
    "# This approach ensures all keys across files are considered\n",
    "df = pd.DataFrame.from_dict(all_data, orient='index')\n",
    "\n",
    "# Optionally, sort the DataFrame by index (bits) if required\n",
    "# df.sort_index(inplace=True)\n",
    "\n",
    "df.index.name = 'Bits'\n",
    "\n",
    "# Save the DataFrame to a CSV file\n",
    "csv_path = 'autogptq_deepseek-ai/evaluation_results_full_corrected.csv'\n",
    "df.to_csv(csv_path)\n",
    "\n",
    "print(f\"CSV file has been saved to {csv_path}\")\n"
   ]
  },
  {
   "cell_type": "code",
   "execution_count": null,
   "metadata": {},
   "outputs": [],
   "source": []
  }
 ],
 "metadata": {
  "kernelspec": {
   "display_name": "autoawq",
   "language": "python",
   "name": "python3"
  },
  "language_info": {
   "codemirror_mode": {
    "name": "ipython",
    "version": 3
   },
   "file_extension": ".py",
   "mimetype": "text/x-python",
   "name": "python",
   "nbconvert_exporter": "python",
   "pygments_lexer": "ipython3",
   "version": "3.8.18"
  }
 },
 "nbformat": 4,
 "nbformat_minor": 2
}
