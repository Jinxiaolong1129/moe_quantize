{
 "cells": [
  {
   "metadata": {
    "ExecuteTime": {
     "end_time": "2024-08-05T08:38:56.161577Z",
     "start_time": "2024-08-05T08:38:33.150907Z"
    }
   },
   "cell_type": "code",
   "source": "import torch",
   "id": "e51a5ab0473112df",
   "outputs": [],
   "execution_count": 2
  },
  {
   "cell_type": "code",
   "id": "initial_id",
   "metadata": {
    "collapsed": true,
    "ExecuteTime": {
     "end_time": "2024-08-05T08:39:52.733926Z",
     "start_time": "2024-08-05T08:39:52.727776Z"
    }
   },
   "source": "openmoe_predictor_scores = torch.tensor([0.9883, 0.9844, 0.9961, 0.9961, 0.9961, 0.9883, 0.9648, 0.9844, 0.9883, 0.9766, 0.957, 0.9727, 0.9961, 0.9922, 0.9883, 0.9922, 0.9766, 0.9609, 0.9805, 0.9688, 0.9336, 0.9688, 0.9727, 0.9805])\n",
   "outputs": [],
   "execution_count": 4
  },
  {
   "metadata": {
    "ExecuteTime": {
     "end_time": "2024-08-05T08:41:20.811411Z",
     "start_time": "2024-08-05T08:41:20.801397Z"
    }
   },
   "cell_type": "code",
   "source": "openmoe_predictor_scores[[5, 11, 17, 23]]",
   "id": "7476e323f4593285",
   "outputs": [
    {
     "data": {
      "text/plain": [
       "tensor([0.9883, 0.9727, 0.9609, 0.9805])"
      ]
     },
     "execution_count": 7,
     "metadata": {},
     "output_type": "execute_result"
    }
   ],
   "execution_count": 7
  },
  {
   "metadata": {},
   "cell_type": "code",
   "outputs": [],
   "execution_count": null,
   "source": "",
   "id": "68a0510e083c7a59"
  }
 ],
 "metadata": {
  "kernelspec": {
   "display_name": "Python 3",
   "language": "python",
   "name": "python3"
  },
  "language_info": {
   "codemirror_mode": {
    "name": "ipython",
    "version": 2
   },
   "file_extension": ".py",
   "mimetype": "text/x-python",
   "name": "python",
   "nbconvert_exporter": "python",
   "pygments_lexer": "ipython2",
   "version": "2.7.6"
  }
 },
 "nbformat": 4,
 "nbformat_minor": 5
}
