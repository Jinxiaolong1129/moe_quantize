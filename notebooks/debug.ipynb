{
 "cells": [
  {
   "cell_type": "code",
   "id": "initial_id",
   "metadata": {
    "collapsed": true,
    "ExecuteTime": {
     "end_time": "2024-08-06T06:12:07.108508Z",
     "start_time": "2024-08-06T06:12:05.064592Z"
    }
   },
   "source": [
    "from typing import Optional\n",
    "\n",
    "import torch\n",
    "from colossalai.moe.layers import SparseMLP\n",
    "from torch import nn\n",
    "from transformers import LlamaConfig"
   ],
   "outputs": [],
   "execution_count": 42
  },
  {
   "metadata": {},
   "cell_type": "code",
   "outputs": [],
   "execution_count": null,
   "source": [
    "class OpenMoeConfig(LlamaConfig):\n",
    "    def __init__(\n",
    "            self,\n",
    "            num_experts: int,\n",
    "            moe_layer_interval: int,\n",
    "            router_topk: int = 2,\n",
    "            router_capacity_factor_train: float = 1.25,\n",
    "            router_capacity_factor_eval: float = 2.0,\n",
    "            router_min_capacity: int = 4,\n",
    "            router_noisy_policy: str = None,\n",
    "            router_drop_tks: bool = True,\n",
    "            router_aux_loss_factor: float = 0.01,\n",
    "            router_z_loss_factor: float = 0.0001,\n",
    "            mlp_gated: bool = True,\n",
    "            label_smoothing: float = 0.001,\n",
    "            z_loss_factor: float = 0.01,\n",
    "            enable_load_balance: bool = False,\n",
    "            load_balance_tolerance: float = 0.1,\n",
    "            load_balance_beam_width: int = 8,\n",
    "            load_balance_group_swap_factor: float = 0.4,\n",
    "            enable_kernel: bool = False,\n",
    "            enable_comm_overlap: bool = False,\n",
    "            enable_hierarchical_alltoall: bool = False,\n",
    "            **kwargs\n",
    "    ):\n",
    "        self.num_experts = num_experts\n",
    "        self.moe_layer_interval = moe_layer_interval\n",
    "        self.router_topk = router_topk\n",
    "        self.router_capacity_factor_train = router_capacity_factor_train\n",
    "        self.router_capacity_factor_eval = router_capacity_factor_eval\n",
    "        self.router_min_capacity = router_min_capacity\n",
    "        self.router_noisy_policy = router_noisy_policy\n",
    "        self.router_drop_tks = router_drop_tks\n",
    "        self.router_aux_loss_factor = router_aux_loss_factor\n",
    "        self.router_z_loss_factor = router_z_loss_factor\n",
    "        self.mlp_gated = mlp_gated\n",
    "        self.label_smoothing = label_smoothing\n",
    "        self.z_loss_factor = z_loss_factor\n",
    "        self.enable_load_balance = enable_load_balance\n",
    "        self.load_balance_tolerance = load_balance_tolerance\n",
    "        self.load_balance_beam_width = load_balance_beam_width\n",
    "        self.load_balance_group_swap_factor = load_balance_group_swap_factor\n",
    "        self.enable_kernel = enable_kernel\n",
    "        self.enable_comm_overlap = enable_comm_overlap\n",
    "        self.enable_hierarchical_alltoall = enable_hierarchical_alltoall\n",
    "\n",
    "        super().__init__(**kwargs)"
   ],
   "id": "ebca48f96c448f69"
  },
  {
   "metadata": {
    "ExecuteTime": {
     "end_time": "2024-08-06T06:11:03.639821Z",
     "start_time": "2024-08-06T06:11:03.631233Z"
    }
   },
   "cell_type": "code",
   "source": [
    "def swiglu_act_fn(x):\n",
    "    \"\"\"Gated linear unit activation function.\n",
    "    Args:\n",
    "        x : input array\n",
    "        axis: the axis along which the split should be computed (default: -1)\n",
    "    \"\"\"\n",
    "    size = x.shape[-1]\n",
    "    assert size % 2 == 0, \"axis size must be divisible by 2\"\n",
    "    x1, x2 = torch.split(x, size // 2, -1)\n",
    "    return x1 * (x2 * torch.sigmoid(x2))\n",
    "\n",
    "\n",
    "class OpenMoeMLP(torch.nn.Module):\n",
    "    def __init__(self, config: OpenMoeConfig):\n",
    "        super().__init__()\n",
    "        self.ffn_dim = config.intermediate_size\n",
    "        self.hidden_dim = config.hidden_size\n",
    "\n",
    "        self.gate_proj = nn.Linear(self.hidden_size, self.ffn_dim * 2)\n",
    "        self.up_proj = nn.Linear(self.hidden_size, self.intermediate_size)\n",
    "        self.down_proj = nn.Linear(self.ffn_dim, self.hidden_size)\n",
    "\n",
    "    def forward(self, hidden_states):\n",
    "        return self.down_proj(swiglu_act_fn(self.gate_proj(hidden_states)) * self.up_proj(hidden_states))\n",
    "\n"
   ],
   "id": "7e94c9605d320566",
   "outputs": [],
   "execution_count": 41
  },
  {
   "metadata": {
    "ExecuteTime": {
     "end_time": "2024-08-06T06:10:08.803174Z",
     "start_time": "2024-08-06T06:10:08.743841Z"
    }
   },
   "cell_type": "code",
   "source": [
    "class OpenMoeSparseMLP(torch.nn.Module):\n",
    "    def __init__(\n",
    "            self,\n",
    "            config,\n",
    "            num_experts: int,\n",
    "            hidden_size: int,\n",
    "            intermediate_size: int,\n",
    "            router_top_k: int = 1,\n",
    "            router_loss: bool = True,\n",
    "            router_norm: bool = False,\n",
    "            router_capacity_factor_train: float = 1.25,\n",
    "            router_capacity_factor_eval: float = 2.0,\n",
    "            router_min_capacity: int = 4,\n",
    "            router_drop_tks: bool = True,\n",
    "            mlp_activation: Optional[str] = None,\n",
    "            mlp_gated: bool = False,\n",
    "            enable_load_balance: bool = False,\n",
    "            load_balance_tolerance: float = 0.1,\n",
    "            load_balance_beam_width: int = 8,\n",
    "            load_balance_group_swap_factor: float = 0.4,\n",
    "            enable_kernel: bool = False,\n",
    "            enable_comm_overlap: bool = False,\n",
    "            enable_hierarchical_comm: bool = True,\n",
    "            return_gate_logits: bool = False\n",
    "    ):\n",
    "        super().__init__()\n",
    "        self.hidden_size = hidden_size\n",
    "        self.intermediate_size = intermediate_size\n",
    "        self.num_experts = num_experts\n",
    "        self.gated = mlp_gated\n",
    "        self.return_gate_logits = return_gate_logits\n",
    "        self.router_loss = router_loss\n",
    "        self.router_norm = router_norm\n",
    "\n",
    "        # moe router\n",
    "        router_cls = get_router_cls(router_top_k)\n",
    "        self.topk = router_top_k\n",
    "\n",
    "        self.gate_weight = torch.nn.Linear(self.hidden_size, num_experts)\n",
    "\n",
    "        self.experts = nn.ModuleList([OpenMoeMLP(config) for _ in range(self.num_experts)])\n",
    "\n",
    "        # self.experts = MLPExperts(\n",
    "        #     num_experts=self.num_experts,\n",
    "        #     expert_parallel=self.expert_parallel,\n",
    "        #     hidden_size=self.hidden_size,\n",
    "        #     intermediate_size=self.intermediate_size,\n",
    "        #     activation=mlp_activation,\n",
    "        #     gated=mlp_gated,\n",
    "        #     use_kernel=self.enable_kernel,\n",
    "        # )"
   ],
   "id": "f40caf5a3b5c474",
   "outputs": [
    {
     "ename": "NameError",
     "evalue": "name 'Optional' is not defined",
     "output_type": "error",
     "traceback": [
      "\u001B[0;31m---------------------------------------------------------------------------\u001B[0m",
      "\u001B[0;31mNameError\u001B[0m                                 Traceback (most recent call last)",
      "Cell \u001B[0;32mIn[39], line 1\u001B[0m\n\u001B[0;32m----> 1\u001B[0m \u001B[38;5;28;01mclass\u001B[39;00m \u001B[38;5;21;01mOpenMoeSparseMLP\u001B[39;00m(torch\u001B[38;5;241m.\u001B[39mnn\u001B[38;5;241m.\u001B[39mModule):\n\u001B[1;32m      2\u001B[0m     \u001B[38;5;28;01mdef\u001B[39;00m \u001B[38;5;21m__init__\u001B[39m(\n\u001B[1;32m      3\u001B[0m             \u001B[38;5;28mself\u001B[39m,\n\u001B[1;32m      4\u001B[0m             num_experts: \u001B[38;5;28mint\u001B[39m,\n\u001B[0;32m   (...)\u001B[0m\n\u001B[1;32m     23\u001B[0m             return_gate_logits: \u001B[38;5;28mbool\u001B[39m \u001B[38;5;241m=\u001B[39m \u001B[38;5;28;01mFalse\u001B[39;00m\n\u001B[1;32m     24\u001B[0m     ):\n\u001B[1;32m     25\u001B[0m         \u001B[38;5;28msuper\u001B[39m()\u001B[38;5;241m.\u001B[39m\u001B[38;5;21m__init__\u001B[39m()\n",
      "Cell \u001B[0;32mIn[39], line 14\u001B[0m, in \u001B[0;36mOpenMoeSparseMLP\u001B[0;34m()\u001B[0m\n\u001B[1;32m      1\u001B[0m \u001B[38;5;28;01mclass\u001B[39;00m \u001B[38;5;21;01mOpenMoeSparseMLP\u001B[39;00m(torch\u001B[38;5;241m.\u001B[39mnn\u001B[38;5;241m.\u001B[39mModule):\n\u001B[1;32m      2\u001B[0m     \u001B[38;5;28;01mdef\u001B[39;00m \u001B[38;5;21m__init__\u001B[39m(\n\u001B[1;32m      3\u001B[0m             \u001B[38;5;28mself\u001B[39m,\n\u001B[1;32m      4\u001B[0m             num_experts: \u001B[38;5;28mint\u001B[39m,\n\u001B[1;32m      5\u001B[0m             hidden_size: \u001B[38;5;28mint\u001B[39m,\n\u001B[1;32m      6\u001B[0m             intermediate_size: \u001B[38;5;28mint\u001B[39m,\n\u001B[1;32m      7\u001B[0m             router_top_k: \u001B[38;5;28mint\u001B[39m \u001B[38;5;241m=\u001B[39m \u001B[38;5;241m1\u001B[39m,\n\u001B[1;32m      8\u001B[0m             router_loss: \u001B[38;5;28mbool\u001B[39m \u001B[38;5;241m=\u001B[39m \u001B[38;5;28;01mTrue\u001B[39;00m,\n\u001B[1;32m      9\u001B[0m             router_norm: \u001B[38;5;28mbool\u001B[39m \u001B[38;5;241m=\u001B[39m \u001B[38;5;28;01mFalse\u001B[39;00m,\n\u001B[1;32m     10\u001B[0m             router_capacity_factor_train: \u001B[38;5;28mfloat\u001B[39m \u001B[38;5;241m=\u001B[39m \u001B[38;5;241m1.25\u001B[39m,\n\u001B[1;32m     11\u001B[0m             router_capacity_factor_eval: \u001B[38;5;28mfloat\u001B[39m \u001B[38;5;241m=\u001B[39m \u001B[38;5;241m2.0\u001B[39m,\n\u001B[1;32m     12\u001B[0m             router_min_capacity: \u001B[38;5;28mint\u001B[39m \u001B[38;5;241m=\u001B[39m \u001B[38;5;241m4\u001B[39m,\n\u001B[1;32m     13\u001B[0m             router_drop_tks: \u001B[38;5;28mbool\u001B[39m \u001B[38;5;241m=\u001B[39m \u001B[38;5;28;01mTrue\u001B[39;00m,\n\u001B[0;32m---> 14\u001B[0m             mlp_activation: \u001B[43mOptional\u001B[49m[\u001B[38;5;28mstr\u001B[39m] \u001B[38;5;241m=\u001B[39m \u001B[38;5;28;01mNone\u001B[39;00m,\n\u001B[1;32m     15\u001B[0m             mlp_gated: \u001B[38;5;28mbool\u001B[39m \u001B[38;5;241m=\u001B[39m \u001B[38;5;28;01mFalse\u001B[39;00m,\n\u001B[1;32m     16\u001B[0m             enable_load_balance: \u001B[38;5;28mbool\u001B[39m \u001B[38;5;241m=\u001B[39m \u001B[38;5;28;01mFalse\u001B[39;00m,\n\u001B[1;32m     17\u001B[0m             load_balance_tolerance: \u001B[38;5;28mfloat\u001B[39m \u001B[38;5;241m=\u001B[39m \u001B[38;5;241m0.1\u001B[39m,\n\u001B[1;32m     18\u001B[0m             load_balance_beam_width: \u001B[38;5;28mint\u001B[39m \u001B[38;5;241m=\u001B[39m \u001B[38;5;241m8\u001B[39m,\n\u001B[1;32m     19\u001B[0m             load_balance_group_swap_factor: \u001B[38;5;28mfloat\u001B[39m \u001B[38;5;241m=\u001B[39m \u001B[38;5;241m0.4\u001B[39m,\n\u001B[1;32m     20\u001B[0m             enable_kernel: \u001B[38;5;28mbool\u001B[39m \u001B[38;5;241m=\u001B[39m \u001B[38;5;28;01mFalse\u001B[39;00m,\n\u001B[1;32m     21\u001B[0m             enable_comm_overlap: \u001B[38;5;28mbool\u001B[39m \u001B[38;5;241m=\u001B[39m \u001B[38;5;28;01mFalse\u001B[39;00m,\n\u001B[1;32m     22\u001B[0m             enable_hierarchical_comm: \u001B[38;5;28mbool\u001B[39m \u001B[38;5;241m=\u001B[39m \u001B[38;5;28;01mTrue\u001B[39;00m,\n\u001B[1;32m     23\u001B[0m             return_gate_logits: \u001B[38;5;28mbool\u001B[39m \u001B[38;5;241m=\u001B[39m \u001B[38;5;28;01mFalse\u001B[39;00m\n\u001B[1;32m     24\u001B[0m     ):\n\u001B[1;32m     25\u001B[0m         \u001B[38;5;28msuper\u001B[39m()\u001B[38;5;241m.\u001B[39m\u001B[38;5;21m__init__\u001B[39m()\n\u001B[1;32m     26\u001B[0m         \u001B[38;5;28mself\u001B[39m\u001B[38;5;241m.\u001B[39mhidden_size \u001B[38;5;241m=\u001B[39m hidden_size\n",
      "\u001B[0;31mNameError\u001B[0m: name 'Optional' is not defined"
     ]
    }
   ],
   "execution_count": 39
  },
  {
   "metadata": {},
   "cell_type": "code",
   "source": [
    "moe_layer = SparseMLP(\n",
    "    num_experts=8,\n",
    "    hidden_size=16,\n",
    "    intermediate_size=64,\n",
    "    router_top_k=2,\n",
    "    router_capacity_factor_train=1.25,\n",
    "    router_capacity_factor_eval=2.0,\n",
    "    router_min_capacity=4,\n",
    "    router_noisy_policy=None,\n",
    "    router_drop_tks=True,\n",
    "    mlp_activation='swiglu',\n",
    "    mlp_gated=True,\n",
    "    enable_load_balance=False,\n",
    "    load_balance_tolerance=0.1,\n",
    "    load_balance_beam_width=8,\n",
    "    load_balance_group_swap_factor=0.4,\n",
    "    enable_kernel=False,\n",
    "    enable_comm_overlap=False,\n",
    ")"
   ],
   "id": "ea4170373b5eeb05",
   "outputs": [],
   "execution_count": null
  },
  {
   "metadata": {},
   "cell_type": "code",
   "source": [
    "for n, p in moe_layer.named_parameters():\n",
    "    print(n, p.shape)"
   ],
   "id": "f549ccc38edbd25b",
   "outputs": [],
   "execution_count": null
  },
  {
   "metadata": {},
   "cell_type": "code",
   "source": "input_hidden_states = torch.randn(4, 12, 16)",
   "id": "c76ab1c7970210f6",
   "outputs": [],
   "execution_count": null
  },
  {
   "metadata": {},
   "cell_type": "code",
   "source": "moe_layer(input_hidden_states).shape",
   "id": "d2a728f038c3eb2e",
   "outputs": [],
   "execution_count": null
  },
  {
   "metadata": {},
   "cell_type": "code",
   "source": "",
   "id": "fed92f4967dd5e7d",
   "outputs": [],
   "execution_count": null
  }
 ],
 "metadata": {
  "kernelspec": {
   "display_name": "Python 3",
   "language": "python",
   "name": "python3"
  },
  "language_info": {
   "codemirror_mode": {
    "name": "ipython",
    "version": 2
   },
   "file_extension": ".py",
   "mimetype": "text/x-python",
   "name": "python",
   "nbconvert_exporter": "python",
   "pygments_lexer": "ipython2",
   "version": "2.7.6"
  }
 },
 "nbformat": 4,
 "nbformat_minor": 5
}
