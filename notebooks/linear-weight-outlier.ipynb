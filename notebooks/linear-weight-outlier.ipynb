{
 "cells": [
  {
   "cell_type": "code",
   "id": "initial_id",
   "metadata": {
    "collapsed": true,
    "ExecuteTime": {
     "end_time": "2024-05-21T14:47:55.838524Z",
     "start_time": "2024-05-21T14:47:53.863861Z"
    }
   },
   "source": "import torch",
   "outputs": [],
   "execution_count": 1
  },
  {
   "metadata": {},
   "cell_type": "code",
   "outputs": [],
   "execution_count": null,
   "source": "",
   "id": "8464637704147395"
  },
  {
   "metadata": {
    "ExecuteTime": {
     "end_time": "2024-05-21T14:48:00.945610Z",
     "start_time": "2024-05-21T14:48:00.934883Z"
    }
   },
   "cell_type": "code",
   "source": "linear_weight_dict = torch.load(\"/Users/lipingzhi/Downloads/mixtral_linear_weight_outlier_metric.pt\")",
   "id": "bf775691ce219121",
   "outputs": [],
   "execution_count": 2
  },
  {
   "metadata": {
    "ExecuteTime": {
     "end_time": "2024-05-21T14:49:49.772883Z",
     "start_time": "2024-05-21T14:49:49.766661Z"
    }
   },
   "cell_type": "code",
   "source": [
    "# sort by the value of the weight\n",
    "sorted_weight_dict = dict(sorted(linear_weight_dict.items(), key=lambda item: item[1], reverse=True))\n",
    "# pop keys without \"block_sparse_moe\"\n",
    "for key in list(sorted_weight_dict.keys()):\n",
    "    if \"experts\" not in key:\n",
    "        sorted_weight_dict.pop(key)"
   ],
   "id": "8d4f5489db688c8d",
   "outputs": [],
   "execution_count": 15
  },
  {
   "metadata": {
    "ExecuteTime": {
     "end_time": "2024-05-21T14:51:34.160260Z",
     "start_time": "2024-05-21T14:51:34.154540Z"
    }
   },
   "cell_type": "code",
   "source": "len(sorted_weight_dict) / 4",
   "id": "f66b06640ecf30c5",
   "outputs": [
    {
     "data": {
      "text/plain": [
       "192.0"
      ]
     },
     "execution_count": 21,
     "metadata": {},
     "output_type": "execute_result"
    }
   ],
   "execution_count": 21
  },
  {
   "metadata": {
    "ExecuteTime": {
     "end_time": "2024-05-21T15:02:07.411487Z",
     "start_time": "2024-05-21T15:02:07.402725Z"
    }
   },
   "cell_type": "code",
   "source": [
    "# select first 192 keys\n",
    "selected_keys = list(sorted_weight_dict.keys())[:192]\n",
    "selected_experts_to_bits = {key: 4 for key in selected_keys}"
   ],
   "id": "54b7c326144e58a8",
   "outputs": [],
   "execution_count": 40
  },
  {
   "metadata": {
    "ExecuteTime": {
     "end_time": "2024-05-21T14:53:02.110318Z",
     "start_time": "2024-05-21T14:53:02.100921Z"
    }
   },
   "cell_type": "code",
   "source": "torch.save(selected_experts_to_bits, \"/Users/lipingzhi/Downloads/top_0.25_linear_weight.pt\")",
   "id": "3f38c4b67d311269",
   "outputs": [],
   "execution_count": 27
  },
  {
   "metadata": {
    "ExecuteTime": {
     "end_time": "2024-05-21T15:00:44.273849Z",
     "start_time": "2024-05-21T15:00:44.265743Z"
    }
   },
   "cell_type": "code",
   "source": [
    "seed = 44\n",
    "torch.manual_seed(seed)\n",
    "random_indexes = torch.randperm(len(sorted_weight_dict))[:192]\n",
    "selected_experts_to_bits = {list(sorted_weight_dict.keys())[idx]: 4 for idx in random_indexes}"
   ],
   "id": "9c1e33199186aca3",
   "outputs": [],
   "execution_count": 38
  },
  {
   "metadata": {
    "ExecuteTime": {
     "end_time": "2024-05-21T15:00:44.444553Z",
     "start_time": "2024-05-21T15:00:44.436492Z"
    }
   },
   "cell_type": "code",
   "source": "torch.save(selected_experts_to_bits, f\"/Users/lipingzhi/Downloads/random_0.25_linear_weight_seed{seed}.pt\")",
   "id": "e9de85c9364ff39d",
   "outputs": [],
   "execution_count": 39
  }
 ],
 "metadata": {
  "kernelspec": {
   "display_name": "Python 3",
   "language": "python",
   "name": "python3"
  },
  "language_info": {
   "codemirror_mode": {
    "name": "ipython",
    "version": 2
   },
   "file_extension": ".py",
   "mimetype": "text/x-python",
   "name": "python",
   "nbconvert_exporter": "python",
   "pygments_lexer": "ipython2",
   "version": "2.7.6"
  }
 },
 "nbformat": 4,
 "nbformat_minor": 5
}
